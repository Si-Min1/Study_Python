{
 "cells": [
  {
   "cell_type": "markdown",
   "metadata": {},
   "source": [
    "## Book Rental Shop On Jupyter Notebook"
   ]
  },
  {
   "cell_type": "code",
   "execution_count": 1,
   "metadata": {},
   "outputs": [],
   "source": [
    "import cx_Oracle as ora"
   ]
  },
  {
   "cell_type": "markdown",
   "metadata": {},
   "source": [
    "### DB연결 함수\n",
    "###### db = mydb() 로 사용"
   ]
  },
  {
   "cell_type": "code",
   "execution_count": 2,
   "metadata": {},
   "outputs": [],
   "source": [
    "def mydb():\n",
    "    dsn = ora.makedsn('localhost', 1521, service_name = 'orcl')\n",
    "    db = ora.connect(user = 'scott', password = 'tiger', dsn = dsn, encoding = 'UTF-8')\n",
    "    return db"
   ]
  },
  {
   "cell_type": "markdown",
   "metadata": {},
   "source": [
    "#### Divtbl 전체조회 함수\n",
    "사용법\n",
    "- getAllDataFromDivtbl(db)"
   ]
  },
  {
   "cell_type": "code",
   "execution_count": 3,
   "metadata": {},
   "outputs": [],
   "source": [
    "def getAllDataFromDivtbl(db):\n",
    "    cur = db.cursor()\n",
    "    sql = 'SELECT * FROM divtbl'\n",
    "    for rows in cur.execute(sql):\n",
    "        print(rows)\n",
    "\n",
    "    db.close()"
   ]
  },
  {
   "cell_type": "markdown",
   "metadata": {},
   "source": [
    "#### Divtbl 새로운 데이터 입력\n",
    "> 사용법 setDataIntoDivtbl(db, tup)\n",
    "\n",
    "tup = (division, name)"
   ]
  },
  {
   "cell_type": "code",
   "execution_count": 4,
   "metadata": {},
   "outputs": [],
   "source": [
    "def setDataIntoDivtbl(db, tup):\n",
    "    cur = db.cursor()\n",
    "    sql = '''INSERT INTO divtbl (division, names) \n",
    "             VALUES (:0, :1)'''\n",
    "\n",
    "    cur.execute(sql,tup)\n",
    "    cur.close()\n",
    "    db.commit()\n",
    "    db.close()"
   ]
  },
  {
   "cell_type": "markdown",
   "metadata": {},
   "source": [
    "#### 책 대여 프로그램 시작\n"
   ]
  },
  {
   "cell_type": "code",
   "execution_count": 10,
   "metadata": {},
   "outputs": [
    {
     "name": "stdout",
     "output_type": "stream",
     "text": [
      "접속\n"
     ]
    }
   ],
   "source": [
    "db = mydb()\n",
    "print('접속')"
   ]
  },
  {
   "cell_type": "markdown",
   "metadata": {},
   "source": [
    "#### 장르 조회"
   ]
  },
  {
   "cell_type": "code",
   "execution_count": 18,
   "metadata": {},
   "outputs": [
    {
     "name": "stdout",
     "output_type": "stream",
     "text": [
      "('B001', '공포/스릴러')\n",
      "('B002', '로맨스')\n",
      "('B003', '무협')\n",
      "('B004', '전쟁/역사')\n",
      "('B005', '추리')\n",
      "('B006', 'SF/판타지')\n",
      "('I001', '프로그래밍')\n",
      "('I101', '치킨치킨')\n"
     ]
    }
   ],
   "source": [
    "getAllDataFromDivtbl(mydb())"
   ]
  },
  {
   "cell_type": "markdown",
   "metadata": {},
   "source": [
    "#### 책 장르 정보 추가"
   ]
  },
  {
   "cell_type": "code",
   "execution_count": 16,
   "metadata": {},
   "outputs": [],
   "source": [
    "div = 'I101'\n",
    "div_name = '치킨치킨'\n",
    "tup = (div, div_name)\n",
    "setDataIntoDivtbl(mydb(), tup)"
   ]
  },
  {
   "cell_type": "markdown",
   "metadata": {},
   "source": []
  }
 ],
 "metadata": {
  "interpreter": {
   "hash": "e5bc2cf9d9a3d85fb4b9cf5c2acdd222f933ac2e5b2df75a3f82eb3e684a5541"
  },
  "kernelspec": {
   "display_name": "Python 3.10.1 64-bit",
   "language": "python",
   "name": "python3"
  },
  "language_info": {
   "codemirror_mode": {
    "name": "ipython",
    "version": 3
   },
   "file_extension": ".py",
   "mimetype": "text/x-python",
   "name": "python",
   "nbconvert_exporter": "python",
   "pygments_lexer": "ipython3",
   "version": "3.10.1"
  },
  "orig_nbformat": 4
 },
 "nbformat": 4,
 "nbformat_minor": 2
}
